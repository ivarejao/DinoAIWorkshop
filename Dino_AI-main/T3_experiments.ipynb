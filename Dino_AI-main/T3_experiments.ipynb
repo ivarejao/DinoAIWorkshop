{
  "nbformat": 4,
  "nbformat_minor": 0,
  "metadata": {
    "colab": {
      "name": "T2_IA_tests.ipynb",
      "provenance": [],
      "collapsed_sections": []
    },
    "kernelspec": {
      "name": "python3",
      "display_name": "Python 3"
    },
    "language_info": {
      "name": "python"
    }
  },
  "cells": [
    {
      "cell_type": "code",
      "source": [
        "from scipy import stats\n",
        "import matplotlib.pyplot as plt\n",
        "import seaborn as sns\n",
        "\n",
        "# função que calcula e retorna o teste t parametrico \n",
        "def pvalue_rel(score_1, score_2):\n",
        "  aux = stats.ttest_rel(score_1, score_2)\n",
        "  return aux.pvalue\n",
        "\n",
        "# função que calcula e retorna o teste t não parametrico \n",
        "def pvalue_wilcoxon(score_1, score_2):\n",
        "  w,p = stats.wilcoxon(score_1, score_2) # , zero_method='pratt'\n",
        "  return p"
      ],
      "metadata": {
        "id": "SNm615-c_7Qi"
      },
      "execution_count": 2,
      "outputs": []
    },
    {
      "cell_type": "code",
      "source": [
        " prof_GS = [1214.0, 759.5, 1164.25, 977.25, 1201.0, 930.0, 1427.75, 799.5, 1006.25, 783.5, 728.5, 419.25, 1389.5, 730.0, 1306.25, 675.5, 1359.5, 1000.25, 1284.5, 1350.0, 751.0, 1418.75, 1276.5, 1645.75, 860.0, 745.5, 1426.25, 783.5, 1149.75, 1482.25]\n",
        "\n",
        " meu_GA = [1089.5, 210.0, 219.0, 1113.75, 1200.5, 1262.25, 287.0, 331.25, 181.0, 226.0, 1609.75, 111.25, 168.75, 183.0, 1068.0, 337.25, 941.5, 163.5, 136.75, 465.5, 1123.25, 1264.25, 276.75, 1196.5, 296.75, 1145.5, 1133.5, 117.0, 1135.75, 1139.75]"
      ],
      "metadata": {
        "id": "LDXsTu8IEe4R"
      },
      "execution_count": 1,
      "outputs": []
    },
    {
      "cell_type": "code",
      "source": [
        "prof_RB = [205.25, 1185.0, 78.25, 1128.0, 62.25, 1344.5, 80.75, 902.0, 1053.5, 1099.25, 38.0, 148.0, 1242.5, 1122.75, 829.0, 953.25, 1100.5, 1323.5, 1242.5, 1233.75, 1186.75, 1115.25, 1114.0, 106.75, 516.0, 38.75, 1222.25, 101.75, 206.75, 1412.0] \n",
        "\n",
        "meu_RB = [1206.0, 1291.25, 899.75, 1619.5, 1240.75, 979.0, 1305.25, 1255.5, 1341.5, 525.5, 1100.5, 1252.0, 1090.0, 1260.5, 1024.0, 1327.25, 1088.5, 1055.5, 1419.25, 1193.0, 1277.25, 1250.75, 1255.0, 1093.75, 1222.5, 1328.0, 1187.0, 1018.0, 1384.5, 977.0]"
      ],
      "metadata": {
        "id": "vIceGhoDRgyl"
      },
      "execution_count": 4,
      "outputs": []
    },
    {
      "cell_type": "code",
      "source": [
        "import numpy as np\n",
        "\n",
        "npRes = np.asarray(meu_GA)\n",
        "print('\\nmean results:', npRes.mean(), '\\nstd results:', npRes.std(), '\\nmean - std', npRes.mean() - npRes.std())"
      ],
      "metadata": {
        "colab": {
          "base_uri": "https://localhost:8080/"
        },
        "id": "o_EwTo3Hh74C",
        "outputId": "9314847d-f576-4808-9f3f-c56ba28ad151"
      },
      "execution_count": 11,
      "outputs": [
        {
          "output_type": "stream",
          "name": "stdout",
          "text": [
            "\n",
            "mean results: 671.15 \n",
            "std results: 484.46238932105626 \n",
            "mean - std 186.6876106789437\n"
          ]
        }
      ]
    },
    {
      "cell_type": "code",
      "source": [
        "plt.figure(figsize=(12, 10))\n",
        "\n",
        "ax = sns.boxplot(data=[prof_RB, meu_RB, meu_GA], palette='RdPu', showmeans=True)\n",
        "\n",
        "ax.set_xticks([0,1, 2])\n",
        "ax.set_xticklabels(['rules prof', 'my rules', 'GA'])\n",
        "\n",
        "plt.show()"
      ],
      "metadata": {
        "id": "gagHUtgPEq8T",
        "colab": {
          "base_uri": "https://localhost:8080/",
          "height": 592
        },
        "outputId": "17bf5900-f862-4902-f70e-26ebeb44f557"
      },
      "execution_count": 7,
      "outputs": [
        {
          "output_type": "display_data",
          "data": {
            "text/plain": [
              "<Figure size 864x720 with 1 Axes>"
            ],
            "image/png": "[encoded data removed]"
          },
          "metadata": {
            "needs_background": "light"
          }
        }
      ]
    },
    {
      "cell_type": "code",
      "source": [
        "import pandas as pd\n",
        "\n",
        "# Definição das colunas da Tabela pareada \n",
        "c1 = ['rules prof', pvalue_rel(prof_RB, meu_RB), pvalue_rel(prof_RB, meu_GA)]\n",
        "c2 = [pvalue_wilcoxon(prof_RB, meu_RB), 'my rules', pvalue_rel(meu_RB, meu_GA)]\n",
        "c3 = [pvalue_wilcoxon(prof_RB, meu_GA), pvalue_wilcoxon(meu_RB, meu_GA), 'GA']\n",
        "\n",
        "\n",
        "table = pd.DataFrame(data={'0': c1, '1':c2, '3':c3})\n",
        "table"
      ],
      "metadata": {
        "id": "yuu7qJ57E87Q",
        "colab": {
          "base_uri": "https://localhost:8080/",
          "height": 142
        },
        "outputId": "760b7992-5de1-4bce-c83e-3d3bae55a62a"
      },
      "execution_count": 13,
      "outputs": [
        {
          "output_type": "execute_result",
          "data": {
            "text/plain": [
              "            0         1         3\n",
              "0  rules prof  0.001484  0.382034\n",
              "1    0.000423  my rules  0.000115\n",
              "2    0.441532  0.000008        GA"
            ],
            "text/html": [
              "\n",
              "  <div id=\"df-94c86f4b-4081-406a-aece-7ad4cb44252a\">\n",
              "    <div class=\"colab-df-container\">\n",
              "      <div>\n",
              "<style scoped>\n",
              "    .dataframe tbody tr th:only-of-type {\n",
              "        vertical-align: middle;\n",
              "    }\n",
              "\n",
              "    .dataframe tbody tr th {\n",
              "        vertical-align: top;\n",
              "    }\n",
              "\n",
              "    .dataframe thead th {\n",
              "        text-align: right;\n",
              "    }\n",
              "</style>\n",
              "<table border=\"1\" class=\"dataframe\">\n",
              "  <thead>\n",
              "    <tr style=\"text-align: right;\">\n",
              "      <th></th>\n",
              "      <th>0</th>\n",
              "      <th>1</th>\n",
              "      <th>3</th>\n",
              "    </tr>\n",
              "  </thead>\n",
              "  <tbody>\n",
              "    <tr>\n",
              "      <th>0</th>\n",
              "      <td>rules prof</td>\n",
              "      <td>0.001484</td>\n",
              "      <td>0.382034</td>\n",
              "    </tr>\n",
              "    <tr>\n",
              "      <th>1</th>\n",
              "      <td>0.000423</td>\n",
              "      <td>my rules</td>\n",
              "      <td>0.000115</td>\n",
              "    </tr>\n",
              "    <tr>\n",
              "      <th>2</th>\n",
              "      <td>0.441532</td>\n",
              "      <td>0.000008</td>\n",
              "      <td>GA</td>\n",
              "    </tr>\n",
              "  </tbody>\n",
              "</table>\n",
              "</div>\n",
              "      <button class=\"colab-df-convert\" onclick=\"convertToInteractive('df-94c86f4b-4081-406a-aece-7ad4cb44252a')\"\n",
              "              title=\"Convert this dataframe to an interactive table.\"\n",
              "              style=\"display:none;\">\n",
              "        \n",
              "  <svg xmlns=\"http://www.w3.org/2000/svg\" height=\"24px\"viewBox=\"0 0 24 24\"\n",
              "       width=\"24px\">\n",
              "    <path d=\"M0 0h24v24H0V0z\" fill=\"none\"/>\n",
              "    <path d=\"M18.56 5.44l.94 2.06.94-2.06 2.06-.94-2.06-.94-.94-2.06-.94 2.06-2.06.94zm-11 1L8.5 8.5l.94-2.06 2.06-.94-2.06-.94L8.5 2.5l-.94 2.06-2.06.94zm10 10l.94 2.06.94-2.06 2.06-.94-2.06-.94-.94-2.06-.94 2.06-2.06.94z\"/><path d=\"M17.41 7.96l-1.37-1.37c-.4-.4-.92-.59-1.43-.59-.52 0-1.04.2-1.43.59L10.3 9.45l-7.72 7.72c-.78.78-.78 2.05 0 2.83L4 21.41c.39.39.9.59 1.41.59.51 0 1.02-.2 1.41-.59l7.78-7.78 2.81-2.81c.8-.78.8-2.07 0-2.86zM5.41 20L4 18.59l7.72-7.72 1.47 1.35L5.41 20z\"/>\n",
              "  </svg>\n",
              "      </button>\n",
              "      \n",
              "  <style>\n",
              "    .colab-df-container {\n",
              "      display:flex;\n",
              "      flex-wrap:wrap;\n",
              "      gap: 12px;\n",
              "    }\n",
              "\n",
              "    .colab-df-convert {\n",
              "      background-color: #E8F0FE;\n",
              "      border: none;\n",
              "      border-radius: 50%;\n",
              "      cursor: pointer;\n",
              "      display: none;\n",
              "      fill: #1967D2;\n",
              "      height: 32px;\n",
              "      padding: 0 0 0 0;\n",
              "      width: 32px;\n",
              "    }\n",
              "\n",
              "    .colab-df-convert:hover {\n",
              "      background-color: #E2EBFA;\n",
              "      box-shadow: 0px 1px 2px rgba(60, 64, 67, 0.3), 0px 1px 3px 1px rgba(60, 64, 67, 0.15);\n",
              "      fill: #174EA6;\n",
              "    }\n",
              "\n",
              "    [theme=dark] .colab-df-convert {\n",
              "      background-color: #3B4455;\n",
              "      fill: #D2E3FC;\n",
              "    }\n",
              "\n",
              "    [theme=dark] .colab-df-convert:hover {\n",
              "      background-color: #434B5C;\n",
              "      box-shadow: 0px 1px 3px 1px rgba(0, 0, 0, 0.15);\n",
              "      filter: drop-shadow(0px 1px 2px rgba(0, 0, 0, 0.3));\n",
              "      fill: #FFFFFF;\n",
              "    }\n",
              "  </style>\n",
              "\n",
              "      <script>\n",
              "        const buttonEl =\n",
              "          document.querySelector('#df-94c86f4b-4081-406a-aece-7ad4cb44252a button.colab-df-convert');\n",
              "        buttonEl.style.display =\n",
              "          google.colab.kernel.accessAllowed ? 'block' : 'none';\n",
              "\n",
              "        async function convertToInteractive(key) {\n",
              "          const element = document.querySelector('#df-94c86f4b-4081-406a-aece-7ad4cb44252a');\n",
              "          const dataTable =\n",
              "            await google.colab.kernel.invokeFunction('convertToInteractive',\n",
              "                                                     [key], {});\n",
              "          if (!dataTable) return;\n",
              "\n",
              "          const docLinkHtml = 'Like what you see? Visit the ' +\n",
              "            '<a target=\"_blank\" href=https://colab.research.google.com/notebooks/data_table.ipynb>data table notebook</a>'\n",
              "            + ' to learn more about interactive tables.';\n",
              "          element.innerHTML = '';\n",
              "          dataTable['output_type'] = 'display_data';\n",
              "          await google.colab.output.renderOutput(dataTable, element);\n",
              "          const docLink = document.createElement('div');\n",
              "          docLink.innerHTML = docLinkHtml;\n",
              "          element.appendChild(docLink);\n",
              "        }\n",
              "      </script>\n",
              "    </div>\n",
              "  </div>\n",
              "  "
            ]
          },
          "metadata": {},
          "execution_count": 13
        }
      ]
    }
  ]
}